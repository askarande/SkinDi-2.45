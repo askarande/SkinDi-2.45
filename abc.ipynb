{
 "cells": [
  {
   "cell_type": "code",
   "execution_count": null,
   "metadata": {},
   "outputs": [],
   "source": [
    "import numpy as np\n",
    "from keras.models import load_model\n",
    "from PIL import Image\n",
    "import os"
   ]
  },
  {
   "cell_type": "code",
   "execution_count": null,
   "metadata": {},
   "outputs": [],
   "source": [
    "# Load the models\n",
    "model_benign_malignant = load_model('best_model.h5')\n",
    "model_melanoma_bcc = load_model('new_model.h5')"
   ]
  },
  {
   "cell_type": "code",
   "execution_count": null,
   "metadata": {},
   "outputs": [],
   "source": [
    "ben = os.listdir('D:\\ISIC_2019_Training_Input\\Melanoma')\n",
    "mal = os.listdir('D:\\ISIC_2019_Training_Input\\Basal_cell_carcinoma')"
   ]
  },
  {
   "cell_type": "code",
   "execution_count": null,
   "metadata": {},
   "outputs": [],
   "source": [
    "ben = ben[:400]\n",
    "len(ben)"
   ]
  },
  {
   "cell_type": "code",
   "execution_count": null,
   "metadata": {},
   "outputs": [],
   "source": [
    "mal = mal[:400]\n",
    "len(mal)"
   ]
  },
  {
   "cell_type": "code",
   "execution_count": null,
   "metadata": {},
   "outputs": [],
   "source": [
    "ben"
   ]
  },
  {
   "cell_type": "code",
   "execution_count": null,
   "metadata": {},
   "outputs": [],
   "source": [
    "mal"
   ]
  },
  {
   "cell_type": "code",
   "execution_count": null,
   "metadata": {},
   "outputs": [],
   "source": [
    "# List to store true labels and predicted labels\n",
    "true_labels_benign_malignant = []\n",
    "predicted_labels_benign_malignant = []\n",
    "true_labels_melanoma_bcc = []\n",
    "predicted_labels_melanoma_bcc = []"
   ]
  },
  {
   "cell_type": "code",
   "execution_count": null,
   "metadata": {},
   "outputs": [],
   "source": [
    "# Initialize arrays to store images\n",
    "melanoma_true = []\n",
    "melanoma_pred = []"
   ]
  },
  {
   "cell_type": "code",
   "execution_count": null,
   "metadata": {},
   "outputs": [],
   "source": [
    "for i in ben:\n",
    "    x = 'D:\\ISIC_2019_Training_Input\\Melanoma' + \"\\\\\" + str(i)\n",
    "    if not os.path.exists(x):\n",
    "        print(f\"Error: Image file '{x}' not found.\")\n",
    "        continue\n",
    "    img = Image.open(x)\n",
    "    print(img)\n",
    "    img = img.resize((200, 200))  # Resize image to match model input size\n",
    "    img = np.array(img) / 255.0   # Normalize pixel values\n",
    "    img = img.reshape((1, 200, 200, 3))  # Reshape to match model input shape\n",
    "\n",
    "    # Predict using the benign vs. malignant model\n",
    "    prediction_melanoma_bcc = model_melanoma_bcc.predict(img)\n",
    "    predicted_label_melanoma_bcc = np.argmax(prediction_melanoma_bcc)\n",
    "\n",
    "    melanoma_true.append(0)\n",
    "    melanoma_pred.append(predicted_label_melanoma_bcc)\n",
    "    # true_labels_melanoma_bcc.append(0)\n",
    "    # predicted_labels_melanoma_bcc.append(predicted_label_melanoma_bcc)"
   ]
  },
  {
   "cell_type": "code",
   "execution_count": null,
   "metadata": {},
   "outputs": [],
   "source": [
    "melanoma_true\n",
    "list(set(melanoma_true))\n",
    "# len(melanoma_true)"
   ]
  },
  {
   "cell_type": "code",
   "execution_count": null,
   "metadata": {},
   "outputs": [],
   "source": [
    "melanoma_pred\n",
    "list(set(melanoma_true))\n",
    "# len(melanoma_pred)"
   ]
  },
  {
   "cell_type": "code",
   "execution_count": null,
   "metadata": {},
   "outputs": [],
   "source": [
    "# predicted_labels_melanoma_bcc\n",
    "# len(predicted_labels_melanoma_bcc)"
   ]
  },
  {
   "cell_type": "code",
   "execution_count": null,
   "metadata": {},
   "outputs": [],
   "source": [
    "# true_labels_melanoma_bcc\n",
    "# len(true_labels_melanoma_bcc)"
   ]
  },
  {
   "cell_type": "code",
   "execution_count": null,
   "metadata": {},
   "outputs": [],
   "source": [
    "# Initialize arrays to store images\n",
    "basal_true = []\n",
    "basal_pred = []"
   ]
  },
  {
   "cell_type": "code",
   "execution_count": null,
   "metadata": {},
   "outputs": [],
   "source": [
    "for i in mal:\n",
    "    x = 'D:\\ISIC_2019_Training_Input\\Basal_cell_carcinoma' + \"\\\\\" + str(i)\n",
    "    if not os.path.exists(x):\n",
    "        print(f\"Error: Image file '{x}' not found.\")\n",
    "        continue\n",
    "    img = Image.open(x)\n",
    "    img = img.resize((200, 200))  # Resize image to match model input size\n",
    "    img = np.array(img) / 255.0   # Normalize pixel values\n",
    "    img = img.reshape((1, 200, 200, 3))  # Reshape to match model input shape\n",
    "\n",
    "    # Predict using the benign vs. malignant model\n",
    "    prediction_melanoma_bcc = model_melanoma_bcc.predict(img)\n",
    "    predicted_label_melanoma_bcc = np.argmax(prediction_melanoma_bcc)\n",
    "\n",
    "    basal_true.append(1)\n",
    "    basal_pred.append(predicted_label_melanoma_bcc)\n",
    "    # true_labels_melanoma_bcc.append(1)\n",
    "    # predicted_labels_melanoma_bcc.append(predicted_label_melanoma_bcc)"
   ]
  },
  {
   "cell_type": "code",
   "execution_count": null,
   "metadata": {},
   "outputs": [],
   "source": [
    "basal_true\n",
    "list(set(basal_true))\n",
    "# len(melanoma_true)"
   ]
  },
  {
   "cell_type": "code",
   "execution_count": null,
   "metadata": {},
   "outputs": [],
   "source": [
    "basal_pred\n",
    "list(set(basal_pred))\n",
    "# len(melanoma_true)"
   ]
  },
  {
   "cell_type": "code",
   "execution_count": null,
   "metadata": {},
   "outputs": [],
   "source": [
    "predicted_labels_melanoma_bcc\n",
    "# len(predicted_labels_melanoma_bcc)"
   ]
  },
  {
   "cell_type": "code",
   "execution_count": null,
   "metadata": {},
   "outputs": [],
   "source": [
    "true_labels_melanoma_bcc\n",
    "# len(true_labels_melanoma_bcc)"
   ]
  },
  {
   "cell_type": "code",
   "execution_count": null,
   "metadata": {},
   "outputs": [],
   "source": [
    "image_dir = r\"C:\\Users\\User\\new\\Skin_Disease\\dataset\\train\""
   ]
  },
  {
   "cell_type": "code",
   "execution_count": null,
   "metadata": {},
   "outputs": [],
   "source": [
    "# Initialize arrays to store images\n",
    "benign_images = []\n",
    "malignant_images = []"
   ]
  },
  {
   "cell_type": "code",
   "execution_count": null,
   "metadata": {},
   "outputs": [],
   "source": [
    "# Iterate over files in the directory\n",
    "for filename in os.listdir(image_dir):\n",
    "    if filename.startswith(\"BIS\"):  # Assuming benign images start with \"BIS\"\n",
    "        benign_images.append(os.path.join(image_dir, filename))\n",
    "    elif filename.startswith(\"MIS\"):  # Assuming malignant images start with \"MIS\"\n",
    "        malignant_images.append(os.path.join(image_dir, filename))"
   ]
  },
  {
   "cell_type": "code",
   "execution_count": null,
   "metadata": {},
   "outputs": [],
   "source": [
    "benign_images"
   ]
  },
  {
   "cell_type": "code",
   "execution_count": null,
   "metadata": {},
   "outputs": [],
   "source": [
    "malignant_images"
   ]
  },
  {
   "cell_type": "code",
   "execution_count": null,
   "metadata": {},
   "outputs": [],
   "source": [
    "# Print the number of images in each category\n",
    "print(\"Number of benign images:\", len(benign_images))\n",
    "print(\"Number of malignant images:\", len(malignant_images))"
   ]
  },
  {
   "cell_type": "code",
   "execution_count": null,
   "metadata": {},
   "outputs": [],
   "source": [
    "for image_file in benign_images:\n",
    "    print(image_file)"
   ]
  },
  {
   "cell_type": "code",
   "execution_count": null,
   "metadata": {},
   "outputs": [],
   "source": [
    "benign_images = benign_images[:300]"
   ]
  },
  {
   "cell_type": "code",
   "execution_count": null,
   "metadata": {},
   "outputs": [],
   "source": [
    "malignant_images = malignant_images[:300]"
   ]
  },
  {
   "cell_type": "code",
   "execution_count": null,
   "metadata": {},
   "outputs": [],
   "source": [
    "# Print the number of images in each category\n",
    "print(\"Number of benign images:\", len(benign_images))\n",
    "print(\"Number of malignant images:\", len(malignant_images))"
   ]
  },
  {
   "cell_type": "code",
   "execution_count": null,
   "metadata": {},
   "outputs": [],
   "source": [
    "for img_path in malignant_images:\n",
    "    img = Image.open(img_path)\n",
    "    img = img.resize((227, 227))  # Resize image to match model input size\n",
    "    img = np.array(img) / 255.0   # Normalize pixel values\n",
    "    img = img.reshape((1, 227, 227, 3))  # Reshape to match model input shape\n",
    "\n",
    "    # Predict using the benign vs. malignant model\n",
    "    prediction_benign_malignant = model_benign_malignant.predict(img)\n",
    "    predicted_label_benign_malignant = np.argmax(prediction_benign_malignant)\n",
    "\n",
    "    true_labels_benign_malignant.append(0)\n",
    "    predicted_labels_benign_malignant.append(predicted_label_benign_malignant)"
   ]
  },
  {
   "cell_type": "code",
   "execution_count": null,
   "metadata": {},
   "outputs": [],
   "source": [
    "true_labels_benign_malignant"
   ]
  },
  {
   "cell_type": "code",
   "execution_count": null,
   "metadata": {},
   "outputs": [],
   "source": [
    "predicted_labels_benign_malignant"
   ]
  },
  {
   "cell_type": "code",
   "execution_count": null,
   "metadata": {},
   "outputs": [],
   "source": [
    "for img_path in benign_images:\n",
    "    img = Image.open(img_path)\n",
    "    img = img.resize((227, 227))  # Resize image to match model input size\n",
    "    img = np.array(img) / 255.0   # Normalize pixel values\n",
    "    img = img.reshape((1, 227, 227, 3))  # Reshape to match model input shape\n",
    "\n",
    "    # Predict using the benign vs. malignant model\n",
    "    prediction_benign_malignant = model_benign_malignant.predict(img)\n",
    "    predicted_label_benign_malignant = np.argmax(prediction_benign_malignant)\n",
    "\n",
    "    true_labels_benign_malignant.append(1)\n",
    "    predicted_labels_benign_malignant.append(predicted_label_benign_malignant)"
   ]
  },
  {
   "cell_type": "code",
   "execution_count": null,
   "metadata": {},
   "outputs": [],
   "source": [
    "true_labels_benign_malignant"
   ]
  },
  {
   "cell_type": "code",
   "execution_count": null,
   "metadata": {},
   "outputs": [],
   "source": [
    "predicted_labels_benign_malignant"
   ]
  }
 ],
 "metadata": {
  "kernelspec": {
   "display_name": "base",
   "language": "python",
   "name": "python3"
  },
  "language_info": {
   "codemirror_mode": {
    "name": "ipython",
    "version": 3
   },
   "file_extension": ".py",
   "mimetype": "text/x-python",
   "name": "python",
   "nbconvert_exporter": "python",
   "pygments_lexer": "ipython3",
   "version": "3.11.7"
  }
 },
 "nbformat": 4,
 "nbformat_minor": 2
}
